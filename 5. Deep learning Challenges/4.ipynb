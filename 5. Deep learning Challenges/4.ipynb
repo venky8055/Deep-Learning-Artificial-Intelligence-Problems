{
 "cells": [
  {
   "cell_type": "markdown",
   "id": "a5e071d1",
   "metadata": {},
   "source": [

    "# * Topic: Deep Learning Challenges  ✨🎄"
   ]
  },
  {
   "cell_type": "markdown",
   "id": "2a7d9eff",
   "metadata": {},
   "source": [
    "# ---------------------------------------------------------------------------"
   ]
  },
  {
   "cell_type": "markdown",
   "id": "30aeb645",
   "metadata": {},
   "source": [
    "## Problem Statement:"
   ]
  },
  {
   "cell_type": "markdown",
   "id": "b2eca843",
   "metadata": {},
   "source": [
    "##  4.\tIf I have a dataset which has images of dogs and cats of size 32x32. I need to predict the output image as a dog or a cat. Fill out the parameters that is used to build a simple ANN model\n",
    "## Input layer should have _____ number of neurons\n",
    "## Output layer should have _____ number of neurons\n",
    "## ____ activation function is used in the output layer\n",
    "## ____ will be the loss function\n"
   ]
  },
  {
   "cell_type": "markdown",
   "id": "2b539e5a",
   "metadata": {},
   "source": [
    "## -----------------------------------------------------------------------------------"
   ]
  },
  {
   "cell_type": "markdown",
   "id": "2f2178a6",
   "metadata": {},
   "source": [
    "Input layer should have **atleast two** number of neurons"
   ]
  },
  {
   "cell_type": "markdown",
   "id": "3c6de861",
   "metadata": {},
   "source": [
    "Output layer should have **one or two** number of neurons"
   ]
  },
  {
   "cell_type": "markdown",
   "id": "dc55315b",
   "metadata": {},
   "source": [
    "**Sigmoid or tanh** activation function is used in the output layer"
   ]
  },
  {
   "cell_type": "markdown",
   "id": "eb8fe1f8",
   "metadata": {},
   "source": [
    "**Binary cross entrophy** will be the loss function"
   ]
  }
 ],
 "metadata": {
  "kernelspec": {
   "display_name": "Python 3",
   "language": "python",
   "name": "python3"
  },
  "language_info": {
   "codemirror_mode": {
    "name": "ipython",
    "version": 3
   },
   "file_extension": ".py",
   "mimetype": "text/x-python",
   "name": "python",
   "nbconvert_exporter": "python",
   "pygments_lexer": "ipython3",
   "version": "3.8.10"
  }
 },
 "nbformat": 4,
 "nbformat_minor": 5
}
