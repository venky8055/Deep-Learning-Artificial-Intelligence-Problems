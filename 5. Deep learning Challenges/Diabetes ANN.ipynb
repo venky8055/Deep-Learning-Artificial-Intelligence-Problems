{
 "cells": [
  {
   "cell_type": "markdown",
   "id": "a5e071d1",
   "metadata": {},
   "source": [
    "# * Kurapati Venkatesh\n",
    "\n",
    "# * 05062021\n",
    "\n",
    "# * Topic: Deep Learning Challenges  ✨🎄"
   ]
  },
  {
   "cell_type": "markdown",
   "id": "2a7d9eff",
   "metadata": {},
   "source": [
    "# ---------------------------------------------------------------------------"
   ]
  },
  {
   "cell_type": "markdown",
   "id": "30aeb645",
   "metadata": {},
   "source": [
    "## Problem Statement:"
   ]
  },
  {
   "cell_type": "markdown",
   "id": "b2eca843",
   "metadata": {},
   "source": [
    "##  The dataset is from the National Institute of Diabetes and Digestive and Kidney Diseases. The objective of the dataset is to diagnostically predict whether a patient has diabetes using a simple ANN model"
   ]
  },
  {
   "cell_type": "markdown",
   "id": "2b539e5a",
   "metadata": {},
   "source": [
    "## -----------------------------------------------------------------------------------"
   ]
  },
  {
   "cell_type": "markdown",
   "id": "27478c5f",
   "metadata": {},
   "source": [
    "### Problem Objective:\n",
    "### The main objective of data set is to predict whether a patient has diabetes using a simple ANN model"
   ]
  },
  {
   "cell_type": "markdown",
   "id": "8c139ba7",
   "metadata": {},
   "source": [
    "### Dataset Description:"
   ]
  },
  {
   "cell_type": "markdown",
   "id": "566dc8ff",
   "metadata": {},
   "source": [
    "The datasets consists 8 independent variables and one Dependent variable."
   ]
  },
  {
   "cell_type": "markdown",
   "id": "85bf50e4",
   "metadata": {},
   "source": [
    "### Independent variables includes:"
   ]
  },
  {
   "cell_type": "markdown",
   "id": "296dd95d",
   "metadata": {},
   "source": [
    "Pregnancies: Number of times pregnant\n",
    "\n",
    "Glucose: Plasma glucose concentration a 2 hours in an oral glucose tolerance test\n",
    "\n",
    "BloodPressure: Diastolic blood pressure (mm Hg)\n",
    "\n",
    "SkinThickness: Triceps skin fold thickness (mm)\n",
    "\n",
    "Insulin: 2-Hour serum insulin (mu U/ml)\n",
    "\n",
    "BMI: Body mass index (weight in kg/(height in m)^2)\n",
    "\n",
    "DiabetesPedigreeFunction: Diabetes pedigree function\n",
    "\n",
    "Age: Age (years)"
   ]
  },
  {
   "cell_type": "markdown",
   "id": "17e666c7",
   "metadata": {},
   "source": [
    "### Dependent variable:"
   ]
  },
  {
   "cell_type": "markdown",
   "id": "cd7d1877",
   "metadata": {},
   "source": [
    "Outcome: 1 as diabites detected & 0 as not detetcted"
   ]
  },
  {
   "cell_type": "markdown",
   "id": "f0acedba",
   "metadata": {},
   "source": [
    "## -------------------------------------------------------------------------------------------"
   ]
  },
  {
   "cell_type": "markdown",
   "id": "8dc15e40",
   "metadata": {},
   "source": [
    "## import libraries:"
   ]
  },
  {
   "cell_type": "code",
   "execution_count": 22,
   "id": "0c26c15f",
   "metadata": {},
   "outputs": [],
   "source": [
    "from keras.models import Sequential\n",
    "from keras.layers import Dense\n",
    "import pandas as pd\n",
    "import numpy as np\n",
    "import seaborn as sns"
   ]
  },
  {
   "cell_type": "markdown",
   "id": "c11bbe31",
   "metadata": {},
   "source": [
    "## import dataset:"
   ]
  },
  {
   "cell_type": "code",
   "execution_count": 23,
   "id": "695527dd",
   "metadata": {},
   "outputs": [],
   "source": [
    "db = pd.read_csv(r\"G:\\360digit\\AI&DL\\Assignments\\5. Deep learning Challenges\\diabetes.csv\")"
   ]
  },
  {
   "cell_type": "code",
   "execution_count": 24,
   "id": "78766156",
   "metadata": {},
   "outputs": [
    {
     "data": {
      "text/html": [
       "<div>\n",
       "<style scoped>\n",
       "    .dataframe tbody tr th:only-of-type {\n",
       "        vertical-align: middle;\n",
       "    }\n",
       "\n",
       "    .dataframe tbody tr th {\n",
       "        vertical-align: top;\n",
       "    }\n",
       "\n",
       "    .dataframe thead th {\n",
       "        text-align: right;\n",
       "    }\n",
       "</style>\n",
       "<table border=\"1\" class=\"dataframe\">\n",
       "  <thead>\n",
       "    <tr style=\"text-align: right;\">\n",
       "      <th></th>\n",
       "      <th>Pregnancies</th>\n",
       "      <th>Glucose</th>\n",
       "      <th>BloodPressure</th>\n",
       "      <th>SkinThickness</th>\n",
       "      <th>Insulin</th>\n",
       "      <th>BMI</th>\n",
       "      <th>DiabetesPedigreeFunction</th>\n",
       "      <th>Age</th>\n",
       "      <th>Outcome</th>\n",
       "    </tr>\n",
       "  </thead>\n",
       "  <tbody>\n",
       "    <tr>\n",
       "      <th>0</th>\n",
       "      <td>6</td>\n",
       "      <td>148</td>\n",
       "      <td>72</td>\n",
       "      <td>35</td>\n",
       "      <td>0</td>\n",
       "      <td>33.6</td>\n",
       "      <td>0.627</td>\n",
       "      <td>50</td>\n",
       "      <td>1</td>\n",
       "    </tr>\n",
       "    <tr>\n",
       "      <th>1</th>\n",
       "      <td>1</td>\n",
       "      <td>85</td>\n",
       "      <td>66</td>\n",
       "      <td>29</td>\n",
       "      <td>0</td>\n",
       "      <td>26.6</td>\n",
       "      <td>0.351</td>\n",
       "      <td>31</td>\n",
       "      <td>0</td>\n",
       "    </tr>\n",
       "    <tr>\n",
       "      <th>2</th>\n",
       "      <td>8</td>\n",
       "      <td>183</td>\n",
       "      <td>64</td>\n",
       "      <td>0</td>\n",
       "      <td>0</td>\n",
       "      <td>23.3</td>\n",
       "      <td>0.672</td>\n",
       "      <td>32</td>\n",
       "      <td>1</td>\n",
       "    </tr>\n",
       "    <tr>\n",
       "      <th>3</th>\n",
       "      <td>1</td>\n",
       "      <td>89</td>\n",
       "      <td>66</td>\n",
       "      <td>23</td>\n",
       "      <td>94</td>\n",
       "      <td>28.1</td>\n",
       "      <td>0.167</td>\n",
       "      <td>21</td>\n",
       "      <td>0</td>\n",
       "    </tr>\n",
       "    <tr>\n",
       "      <th>4</th>\n",
       "      <td>0</td>\n",
       "      <td>137</td>\n",
       "      <td>40</td>\n",
       "      <td>35</td>\n",
       "      <td>168</td>\n",
       "      <td>43.1</td>\n",
       "      <td>2.288</td>\n",
       "      <td>33</td>\n",
       "      <td>1</td>\n",
       "    </tr>\n",
       "  </tbody>\n",
       "</table>\n",
       "</div>"
      ],
      "text/plain": [
       "   Pregnancies  Glucose  BloodPressure  SkinThickness  Insulin   BMI  \\\n",
       "0            6      148             72             35        0  33.6   \n",
       "1            1       85             66             29        0  26.6   \n",
       "2            8      183             64              0        0  23.3   \n",
       "3            1       89             66             23       94  28.1   \n",
       "4            0      137             40             35      168  43.1   \n",
       "\n",
       "   DiabetesPedigreeFunction  Age  Outcome  \n",
       "0                     0.627   50        1  \n",
       "1                     0.351   31        0  \n",
       "2                     0.672   32        1  \n",
       "3                     0.167   21        0  \n",
       "4                     2.288   33        1  "
      ]
     },
     "execution_count": 24,
     "metadata": {},
     "output_type": "execute_result"
    }
   ],
   "source": [
    "db.head()"
   ]
  },
  {
   "cell_type": "markdown",
   "id": "2c3b8bd1",
   "metadata": {},
   "source": [
    "## EDA:"
   ]
  },
  {
   "cell_type": "code",
   "execution_count": 25,
   "id": "d123d5e8",
   "metadata": {},
   "outputs": [
    {
     "data": {
      "text/html": [
       "<div>\n",
       "<style scoped>\n",
       "    .dataframe tbody tr th:only-of-type {\n",
       "        vertical-align: middle;\n",
       "    }\n",
       "\n",
       "    .dataframe tbody tr th {\n",
       "        vertical-align: top;\n",
       "    }\n",
       "\n",
       "    .dataframe thead th {\n",
       "        text-align: right;\n",
       "    }\n",
       "</style>\n",
       "<table border=\"1\" class=\"dataframe\">\n",
       "  <thead>\n",
       "    <tr style=\"text-align: right;\">\n",
       "      <th></th>\n",
       "      <th>Pregnancies</th>\n",
       "      <th>Glucose</th>\n",
       "      <th>BloodPressure</th>\n",
       "      <th>SkinThickness</th>\n",
       "      <th>Insulin</th>\n",
       "      <th>BMI</th>\n",
       "      <th>DiabetesPedigreeFunction</th>\n",
       "      <th>Age</th>\n",
       "      <th>Outcome</th>\n",
       "    </tr>\n",
       "  </thead>\n",
       "  <tbody>\n",
       "    <tr>\n",
       "      <th>count</th>\n",
       "      <td>768.000000</td>\n",
       "      <td>768.000000</td>\n",
       "      <td>768.000000</td>\n",
       "      <td>768.000000</td>\n",
       "      <td>768.000000</td>\n",
       "      <td>768.000000</td>\n",
       "      <td>768.000000</td>\n",
       "      <td>768.000000</td>\n",
       "      <td>768.000000</td>\n",
       "    </tr>\n",
       "    <tr>\n",
       "      <th>mean</th>\n",
       "      <td>3.845052</td>\n",
       "      <td>120.894531</td>\n",
       "      <td>69.105469</td>\n",
       "      <td>20.536458</td>\n",
       "      <td>79.799479</td>\n",
       "      <td>31.992578</td>\n",
       "      <td>0.471876</td>\n",
       "      <td>33.240885</td>\n",
       "      <td>0.348958</td>\n",
       "    </tr>\n",
       "    <tr>\n",
       "      <th>std</th>\n",
       "      <td>3.369578</td>\n",
       "      <td>31.972618</td>\n",
       "      <td>19.355807</td>\n",
       "      <td>15.952218</td>\n",
       "      <td>115.244002</td>\n",
       "      <td>7.884160</td>\n",
       "      <td>0.331329</td>\n",
       "      <td>11.760232</td>\n",
       "      <td>0.476951</td>\n",
       "    </tr>\n",
       "    <tr>\n",
       "      <th>min</th>\n",
       "      <td>0.000000</td>\n",
       "      <td>0.000000</td>\n",
       "      <td>0.000000</td>\n",
       "      <td>0.000000</td>\n",
       "      <td>0.000000</td>\n",
       "      <td>0.000000</td>\n",
       "      <td>0.078000</td>\n",
       "      <td>21.000000</td>\n",
       "      <td>0.000000</td>\n",
       "    </tr>\n",
       "    <tr>\n",
       "      <th>25%</th>\n",
       "      <td>1.000000</td>\n",
       "      <td>99.000000</td>\n",
       "      <td>62.000000</td>\n",
       "      <td>0.000000</td>\n",
       "      <td>0.000000</td>\n",
       "      <td>27.300000</td>\n",
       "      <td>0.243750</td>\n",
       "      <td>24.000000</td>\n",
       "      <td>0.000000</td>\n",
       "    </tr>\n",
       "    <tr>\n",
       "      <th>50%</th>\n",
       "      <td>3.000000</td>\n",
       "      <td>117.000000</td>\n",
       "      <td>72.000000</td>\n",
       "      <td>23.000000</td>\n",
       "      <td>30.500000</td>\n",
       "      <td>32.000000</td>\n",
       "      <td>0.372500</td>\n",
       "      <td>29.000000</td>\n",
       "      <td>0.000000</td>\n",
       "    </tr>\n",
       "    <tr>\n",
       "      <th>75%</th>\n",
       "      <td>6.000000</td>\n",
       "      <td>140.250000</td>\n",
       "      <td>80.000000</td>\n",
       "      <td>32.000000</td>\n",
       "      <td>127.250000</td>\n",
       "      <td>36.600000</td>\n",
       "      <td>0.626250</td>\n",
       "      <td>41.000000</td>\n",
       "      <td>1.000000</td>\n",
       "    </tr>\n",
       "    <tr>\n",
       "      <th>max</th>\n",
       "      <td>17.000000</td>\n",
       "      <td>199.000000</td>\n",
       "      <td>122.000000</td>\n",
       "      <td>99.000000</td>\n",
       "      <td>846.000000</td>\n",
       "      <td>67.100000</td>\n",
       "      <td>2.420000</td>\n",
       "      <td>81.000000</td>\n",
       "      <td>1.000000</td>\n",
       "    </tr>\n",
       "  </tbody>\n",
       "</table>\n",
       "</div>"
      ],
      "text/plain": [
       "       Pregnancies     Glucose  BloodPressure  SkinThickness     Insulin  \\\n",
       "count   768.000000  768.000000     768.000000     768.000000  768.000000   \n",
       "mean      3.845052  120.894531      69.105469      20.536458   79.799479   \n",
       "std       3.369578   31.972618      19.355807      15.952218  115.244002   \n",
       "min       0.000000    0.000000       0.000000       0.000000    0.000000   \n",
       "25%       1.000000   99.000000      62.000000       0.000000    0.000000   \n",
       "50%       3.000000  117.000000      72.000000      23.000000   30.500000   \n",
       "75%       6.000000  140.250000      80.000000      32.000000  127.250000   \n",
       "max      17.000000  199.000000     122.000000      99.000000  846.000000   \n",
       "\n",
       "              BMI  DiabetesPedigreeFunction         Age     Outcome  \n",
       "count  768.000000                768.000000  768.000000  768.000000  \n",
       "mean    31.992578                  0.471876   33.240885    0.348958  \n",
       "std      7.884160                  0.331329   11.760232    0.476951  \n",
       "min      0.000000                  0.078000   21.000000    0.000000  \n",
       "25%     27.300000                  0.243750   24.000000    0.000000  \n",
       "50%     32.000000                  0.372500   29.000000    0.000000  \n",
       "75%     36.600000                  0.626250   41.000000    1.000000  \n",
       "max     67.100000                  2.420000   81.000000    1.000000  "
      ]
     },
     "execution_count": 25,
     "metadata": {},
     "output_type": "execute_result"
    }
   ],
   "source": [
    "db.describe()"
   ]
  },
  {
   "cell_type": "code",
   "execution_count": 26,
   "id": "4393e3a8",
   "metadata": {},
   "outputs": [
    {
     "name": "stdout",
     "output_type": "stream",
     "text": [
      "<class 'pandas.core.frame.DataFrame'>\n",
      "RangeIndex: 768 entries, 0 to 767\n",
      "Data columns (total 9 columns):\n",
      " #   Column                    Non-Null Count  Dtype  \n",
      "---  ------                    --------------  -----  \n",
      " 0   Pregnancies               768 non-null    int64  \n",
      " 1   Glucose                   768 non-null    int64  \n",
      " 2   BloodPressure             768 non-null    int64  \n",
      " 3   SkinThickness             768 non-null    int64  \n",
      " 4   Insulin                   768 non-null    int64  \n",
      " 5   BMI                       768 non-null    float64\n",
      " 6   DiabetesPedigreeFunction  768 non-null    float64\n",
      " 7   Age                       768 non-null    int64  \n",
      " 8   Outcome                   768 non-null    int64  \n",
      "dtypes: float64(2), int64(7)\n",
      "memory usage: 54.1 KB\n"
     ]
    }
   ],
   "source": [
    "db.info()"
   ]
  },
  {
   "cell_type": "code",
   "execution_count": 27,
   "id": "57100260",
   "metadata": {},
   "outputs": [
    {
     "data": {
      "text/plain": [
       "(768, 9)"
      ]
     },
     "execution_count": 27,
     "metadata": {},
     "output_type": "execute_result"
    }
   ],
   "source": [
    "db.shape"
   ]
  },
  {
   "cell_type": "code",
   "execution_count": 28,
   "id": "9cb96dd9",
   "metadata": {},
   "outputs": [
    {
     "data": {
      "text/html": [
       "<div>\n",
       "<style scoped>\n",
       "    .dataframe tbody tr th:only-of-type {\n",
       "        vertical-align: middle;\n",
       "    }\n",
       "\n",
       "    .dataframe tbody tr th {\n",
       "        vertical-align: top;\n",
       "    }\n",
       "\n",
       "    .dataframe thead th {\n",
       "        text-align: right;\n",
       "    }\n",
       "</style>\n",
       "<table border=\"1\" class=\"dataframe\">\n",
       "  <thead>\n",
       "    <tr style=\"text-align: right;\">\n",
       "      <th></th>\n",
       "      <th>Outcome</th>\n",
       "    </tr>\n",
       "  </thead>\n",
       "  <tbody>\n",
       "    <tr>\n",
       "      <th>0</th>\n",
       "      <td>500</td>\n",
       "    </tr>\n",
       "    <tr>\n",
       "      <th>1</th>\n",
       "      <td>268</td>\n",
       "    </tr>\n",
       "  </tbody>\n",
       "</table>\n",
       "</div>"
      ],
      "text/plain": [
       "   Outcome\n",
       "0      500\n",
       "1      268"
      ]
     },
     "execution_count": 28,
     "metadata": {},
     "output_type": "execute_result"
    }
   ],
   "source": [
    "db[\"Outcome\"].value_counts().to_frame()"
   ]
  },
  {
   "cell_type": "markdown",
   "id": "390c63e6",
   "metadata": {},
   "source": [
    "Let's see, whether there are any relationships b/w outcome and independent variables"
   ]
  },
  {
   "cell_type": "code",
   "execution_count": 50,
   "id": "1fad90b3",
   "metadata": {},
   "outputs": [
    {
     "data": {
      "image/png": "[encoded data removed]",
      "text/plain": [
       "<Figure size 432x288 with 2 Axes>"
      ]
     },
     "metadata": {
      "needs_background": "light"
     },
     "output_type": "display_data"
    }
   ],
   "source": [
    "from heatmap import heatmap, corrplot\n",
    "corrplot(db.corr(), size_scale=500, marker='s')"
   ]
  },
  {
   "cell_type": "markdown",
   "id": "0b9f88ea",
   "metadata": {},
   "source": [
    "from the above plot, we can infer that, there is no significant correlation between outcome and other variables, except for glucose."
   ]
  },
  {
   "cell_type": "markdown",
   "id": "231b72a1",
   "metadata": {},
   "source": [
    "we will choose dependent variable y and independent variables X. After choosing X and y we will scale the data and split them into training and testing sets respectively. Also, we will do one-hot encoding to our target variable y."
   ]
  },
  {
   "cell_type": "markdown",
   "id": "7c61b29c",
   "metadata": {},
   "source": [
    "### Choosing X and y:"
   ]
  },
  {
   "cell_type": "code",
   "execution_count": 29,
   "id": "ccba74f7",
   "metadata": {},
   "outputs": [],
   "source": [
    "X = db.drop('Outcome',axis = 1)\n",
    "y = db['Outcome']"
   ]
  },
  {
   "cell_type": "markdown",
   "id": "aa5a00c5",
   "metadata": {},
   "source": [
    "### Scaling the data;"
   ]
  },
  {
   "cell_type": "code",
   "execution_count": 30,
   "id": "8e2bf799",
   "metadata": {},
   "outputs": [],
   "source": [
    "from sklearn.preprocessing import scale\n",
    "X = scale(X)"
   ]
  },
  {
   "cell_type": "code",
   "execution_count": 31,
   "id": "e9ad290a",
   "metadata": {},
   "outputs": [
    {
     "data": {
      "text/plain": [
       "array([[ 0.63994726,  0.84832379,  0.14964075, ...,  0.20401277,\n",
       "         0.46849198,  1.4259954 ],\n",
       "       [-0.84488505, -1.12339636, -0.16054575, ..., -0.68442195,\n",
       "        -0.36506078, -0.19067191],\n",
       "       [ 1.23388019,  1.94372388, -0.26394125, ..., -1.10325546,\n",
       "         0.60439732, -0.10558415],\n",
       "       ...,\n",
       "       [ 0.3429808 ,  0.00330087,  0.14964075, ..., -0.73518964,\n",
       "        -0.68519336, -0.27575966],\n",
       "       [-0.84488505,  0.1597866 , -0.47073225, ..., -0.24020459,\n",
       "        -0.37110101,  1.17073215],\n",
       "       [-0.84488505, -0.8730192 ,  0.04624525, ..., -0.20212881,\n",
       "        -0.47378505, -0.87137393]])"
      ]
     },
     "execution_count": 31,
     "metadata": {},
     "output_type": "execute_result"
    }
   ],
   "source": [
    "X"
   ]
  },
  {
   "cell_type": "markdown",
   "id": "e1338af1",
   "metadata": {},
   "source": [
    "### Train/Test Split:"
   ]
  },
  {
   "cell_type": "code",
   "execution_count": 32,
   "id": "3a16fa20",
   "metadata": {},
   "outputs": [],
   "source": [
    "from sklearn.model_selection import train_test_split\n",
    "X_train, X_test, y_train, y_test = train_test_split(X, y, test_size = 0.3, random_state=42)"
   ]
  },
  {
   "cell_type": "code",
   "execution_count": 33,
   "id": "d884fae6",
   "metadata": {},
   "outputs": [
    {
     "data": {
      "text/plain": [
       "array([[-0.84488505, -0.81042491, -0.47073225, ..., -1.02710391,\n",
       "        -0.63989158, -0.95646168],\n",
       "       [ 0.3429808 , -0.49745345,  0.14964075, ...,  0.62284628,\n",
       "        -0.94492356, -0.44593516],\n",
       "       [-1.14185152,  0.44146091, -0.05715025, ...,  1.30821021,\n",
       "        -0.32277912, -0.78628618],\n",
       "       ...,\n",
       "       [ 1.82781311, -0.62264204,  0.87340925, ...,  1.72704372,\n",
       "         2.00573238,  0.40494237],\n",
       "       [-1.14185152,  0.62924378, -3.57259724, ...,  1.32090213,\n",
       "        -0.8059981 , -0.36084741],\n",
       "       [-1.14185152,  0.12848945,  1.39038675, ..., -1.20479085,\n",
       "        -0.63385134, -1.04154944]])"
      ]
     },
     "execution_count": 33,
     "metadata": {},
     "output_type": "execute_result"
    }
   ],
   "source": [
    "X_train"
   ]
  },
  {
   "cell_type": "markdown",
   "id": "8c15a8e3",
   "metadata": {},
   "source": [
    "### One hot encoding:"
   ]
  },
  {
   "cell_type": "code",
   "execution_count": 34,
   "id": "ebad7c5b",
   "metadata": {},
   "outputs": [],
   "source": [
    "from keras.utils import np_utils\n",
    "y_train = np_utils.to_categorical(y_train)"
   ]
  },
  {
   "cell_type": "code",
   "execution_count": 35,
   "id": "7f7c2a05",
   "metadata": {},
   "outputs": [
    {
     "data": {
      "text/plain": [
       "(537, 2)"
      ]
     },
     "execution_count": 35,
     "metadata": {},
     "output_type": "execute_result"
    }
   ],
   "source": [
    "y_train.shape"
   ]
  },
  {
   "cell_type": "markdown",
   "id": "b8c31193",
   "metadata": {},
   "source": [
    "## Modelling:"
   ]
  },
  {
   "cell_type": "markdown",
   "id": "65489329",
   "metadata": {},
   "source": [
    "* we will move towards designing and building the neural network model using keras. "
   ]
  },
  {
   "cell_type": "markdown",
   "id": "303be2b6",
   "metadata": {},
   "source": [
    "* Here we are using one input layer with 12 neurons, one hidden layer with 8 neurons and one output layer with 2 neurons.\n",
    "\n",
    "* Hidden Layer is nothing but simple layer which takes the input layer output as input an pass it on to next layer. \n",
    "\n",
    "* Here we are using two activation functions relu and sigmoid. Sigmoid takes all negative values and maps them to zero and relu is also similar activation function which can be defined as y = max(0, x)."
   ]
  },
  {
   "cell_type": "code",
   "execution_count": 36,
   "id": "75885ddd",
   "metadata": {},
   "outputs": [],
   "source": [
    "model = Sequential()\n",
    "model.add(Dense(12, input_dim = 8, activation = \"relu\"))\n",
    "model.add(Dense(8, activation = \"relu\"))\n",
    "model.add(Dense(2, activation = \"sigmoid\"))"
   ]
  },
  {
   "cell_type": "markdown",
   "id": "11d3bc43",
   "metadata": {},
   "source": [
    "Now we will compile our model and assign optimization method which will perform backpropagation for us. Backpropagation is nothing but it updates weights to optimize our loss function. Here we are using adam optimizer to perform backpropagation. Also, we are using binary cross-entropy as our loss function and accuracy metrics. Accuracy metrics is just the difference between actual values and predicted values. "
   ]
  },
  {
   "cell_type": "code",
   "execution_count": 37,
   "id": "875f3f0e",
   "metadata": {},
   "outputs": [],
   "source": [
    "model.compile(loss = 'binary_crossentropy', optimizer='adam', metrics=['accuracy'])"
   ]
  },
  {
   "cell_type": "markdown",
   "id": "dd49fe60",
   "metadata": {},
   "source": [
    "Now finally we will train our model. Here we are using 150 epochs."
   ]
  },
  {
   "cell_type": "markdown",
   "id": "8cc7418a",
   "metadata": {},
   "source": [
    "### Training the Model:"
   ]
  },
  {
   "cell_type": "code",
   "execution_count": 38,
   "id": "840460d8",
   "metadata": {},
   "outputs": [
    {
     "name": "stdout",
     "output_type": "stream",
     "text": [
      "Epoch 1/100\n",
      "54/54 [==============================] - 0s 2ms/step - loss: 0.7355 - accuracy: 0.4637\n",
      "Epoch 2/100\n",
      "54/54 [==============================] - 0s 2ms/step - loss: 0.6756 - accuracy: 0.5996\n",
      "Epoch 3/100\n",
      "54/54 [==============================] - 0s 991us/step - loss: 0.6332 - accuracy: 0.6946\n",
      "Epoch 4/100\n",
      "54/54 [==============================] - 0s 907us/step - loss: 0.5930 - accuracy: 0.7356\n",
      "Epoch 5/100\n",
      "54/54 [==============================] - 0s 852us/step - loss: 0.5555 - accuracy: 0.7412\n",
      "Epoch 6/100\n",
      "54/54 [==============================] - 0s 833us/step - loss: 0.5249 - accuracy: 0.7449\n",
      "Epoch 7/100\n",
      "54/54 [==============================] - 0s 833us/step - loss: 0.5050 - accuracy: 0.7467\n",
      "Epoch 8/100\n",
      "54/54 [==============================] - 0s 852us/step - loss: 0.4878 - accuracy: 0.7561\n",
      "Epoch 9/100\n",
      "54/54 [==============================] - 0s 871us/step - loss: 0.4774 - accuracy: 0.7654\n",
      "Epoch 10/100\n",
      "54/54 [==============================] - 0s 1ms/step - loss: 0.4694 - accuracy: 0.7691\n",
      "Epoch 11/100\n",
      "54/54 [==============================] - 0s 888us/step - loss: 0.4631 - accuracy: 0.7728\n",
      "Epoch 12/100\n",
      "54/54 [==============================] - 0s 815us/step - loss: 0.4584 - accuracy: 0.7821\n",
      "Epoch 13/100\n",
      "54/54 [==============================] - 0s 778us/step - loss: 0.4542 - accuracy: 0.7877\n",
      "Epoch 14/100\n",
      "54/54 [==============================] - 0s 1ms/step - loss: 0.4511 - accuracy: 0.7877\n",
      "Epoch 15/100\n",
      "54/54 [==============================] - 0s 1ms/step - loss: 0.4477 - accuracy: 0.7914\n",
      "Epoch 16/100\n",
      "54/54 [==============================] - 0s 833us/step - loss: 0.4449 - accuracy: 0.7952\n",
      "Epoch 17/100\n",
      "54/54 [==============================] - 0s 1ms/step - loss: 0.4432 - accuracy: 0.7914\n",
      "Epoch 18/100\n",
      "54/54 [==============================] - 0s 1ms/step - loss: 0.4405 - accuracy: 0.7933\n",
      "Epoch 19/100\n",
      "54/54 [==============================] - 0s 1ms/step - loss: 0.4380 - accuracy: 0.7952\n",
      "Epoch 20/100\n",
      "54/54 [==============================] - 0s 1ms/step - loss: 0.4359 - accuracy: 0.7952\n",
      "Epoch 21/100\n",
      "54/54 [==============================] - 0s 963us/step - loss: 0.4339 - accuracy: 0.7914\n",
      "Epoch 22/100\n",
      "54/54 [==============================] - 0s 1ms/step - loss: 0.4327 - accuracy: 0.8007\n",
      "Epoch 23/100\n",
      "54/54 [==============================] - 0s 1ms/step - loss: 0.4317 - accuracy: 0.8007\n",
      "Epoch 24/100\n",
      "54/54 [==============================] - 0s 852us/step - loss: 0.4304 - accuracy: 0.7952\n",
      "Epoch 25/100\n",
      "54/54 [==============================] - 0s 870us/step - loss: 0.4298 - accuracy: 0.7952\n",
      "Epoch 26/100\n",
      "54/54 [==============================] - 0s 1ms/step - loss: 0.4278 - accuracy: 0.8007\n",
      "Epoch 27/100\n",
      "54/54 [==============================] - 0s 778us/step - loss: 0.4266 - accuracy: 0.8026\n",
      "Epoch 28/100\n",
      "54/54 [==============================] - 0s 907us/step - loss: 0.4262 - accuracy: 0.8007\n",
      "Epoch 29/100\n",
      "54/54 [==============================] - 0s 870us/step - loss: 0.4246 - accuracy: 0.8026\n",
      "Epoch 30/100\n",
      "54/54 [==============================] - 0s 870us/step - loss: 0.4232 - accuracy: 0.8007\n",
      "Epoch 31/100\n",
      "54/54 [==============================] - 0s 852us/step - loss: 0.4222 - accuracy: 0.8063\n",
      "Epoch 32/100\n",
      "54/54 [==============================] - 0s 833us/step - loss: 0.4220 - accuracy: 0.8026\n",
      "Epoch 33/100\n",
      "54/54 [==============================] - 0s 833us/step - loss: 0.4204 - accuracy: 0.8101\n",
      "Epoch 34/100\n",
      "54/54 [==============================] - 0s 963us/step - loss: 0.4195 - accuracy: 0.8026\n",
      "Epoch 35/100\n",
      "54/54 [==============================] - 0s 870us/step - loss: 0.4181 - accuracy: 0.8026\n",
      "Epoch 36/100\n",
      "54/54 [==============================] - 0s 870us/step - loss: 0.4191 - accuracy: 0.8007\n",
      "Epoch 37/100\n",
      "54/54 [==============================] - 0s 2ms/step - loss: 0.4165 - accuracy: 0.8007\n",
      "Epoch 38/100\n",
      "54/54 [==============================] - 0s 833us/step - loss: 0.4156 - accuracy: 0.8063\n",
      "Epoch 39/100\n",
      "54/54 [==============================] - 0s 815us/step - loss: 0.4150 - accuracy: 0.8007\n",
      "Epoch 40/100\n",
      "54/54 [==============================] - 0s 759us/step - loss: 0.4128 - accuracy: 0.8082\n",
      "Epoch 41/100\n",
      "54/54 [==============================] - 0s 741us/step - loss: 0.4118 - accuracy: 0.8063\n",
      "Epoch 42/100\n",
      "54/54 [==============================] - 0s 722us/step - loss: 0.4108 - accuracy: 0.8119\n",
      "Epoch 43/100\n",
      "54/54 [==============================] - 0s 852us/step - loss: 0.4101 - accuracy: 0.8045\n",
      "Epoch 44/100\n",
      "54/54 [==============================] - 0s 815us/step - loss: 0.4095 - accuracy: 0.8045\n",
      "Epoch 45/100\n",
      "54/54 [==============================] - 0s 852us/step - loss: 0.4085 - accuracy: 0.8045\n",
      "Epoch 46/100\n",
      "54/54 [==============================] - 0s 926us/step - loss: 0.4077 - accuracy: 0.8119\n",
      "Epoch 47/100\n",
      "54/54 [==============================] - 0s 1ms/step - loss: 0.4064 - accuracy: 0.8119\n",
      "Epoch 48/100\n",
      "54/54 [==============================] - 0s 1ms/step - loss: 0.4056 - accuracy: 0.8082\n",
      "Epoch 49/100\n",
      "54/54 [==============================] - 0s 1ms/step - loss: 0.4052 - accuracy: 0.8101\n",
      "Epoch 50/100\n",
      "54/54 [==============================] - 0s 1ms/step - loss: 0.4036 - accuracy: 0.8156\n",
      "Epoch 51/100\n",
      "54/54 [==============================] - 0s 981us/step - loss: 0.4035 - accuracy: 0.8101\n",
      "Epoch 52/100\n",
      "54/54 [==============================] - 0s 926us/step - loss: 0.4023 - accuracy: 0.8119\n",
      "Epoch 53/100\n",
      "54/54 [==============================] - 0s 963us/step - loss: 0.4026 - accuracy: 0.8101\n",
      "Epoch 54/100\n",
      "54/54 [==============================] - 0s 907us/step - loss: 0.4006 - accuracy: 0.8101\n",
      "Epoch 55/100\n",
      "54/54 [==============================] - 0s 944us/step - loss: 0.4010 - accuracy: 0.8138\n",
      "Epoch 56/100\n",
      "54/54 [==============================] - 0s 1ms/step - loss: 0.3985 - accuracy: 0.8156\n",
      "Epoch 57/100\n",
      "54/54 [==============================] - 0s 1ms/step - loss: 0.3983 - accuracy: 0.8212\n",
      "Epoch 58/100\n",
      "54/54 [==============================] - 0s 982us/step - loss: 0.3979 - accuracy: 0.8175\n",
      "Epoch 59/100\n",
      "54/54 [==============================] - 0s 1ms/step - loss: 0.3964 - accuracy: 0.8156\n",
      "Epoch 60/100\n",
      "54/54 [==============================] - 0s 1000us/step - loss: 0.3956 - accuracy: 0.8119\n",
      "Epoch 61/100\n",
      "54/54 [==============================] - 0s 907us/step - loss: 0.3939 - accuracy: 0.8212\n",
      "Epoch 62/100\n",
      "54/54 [==============================] - 0s 870us/step - loss: 0.3933 - accuracy: 0.8212\n",
      "Epoch 63/100\n",
      "54/54 [==============================] - 0s 833us/step - loss: 0.3933 - accuracy: 0.8194\n",
      "Epoch 64/100\n",
      "54/54 [==============================] - 0s 796us/step - loss: 0.3916 - accuracy: 0.8156\n",
      "Epoch 65/100\n",
      "54/54 [==============================] - 0s 778us/step - loss: 0.3931 - accuracy: 0.8212\n",
      "Epoch 66/100\n",
      "54/54 [==============================] - 0s 1ms/step - loss: 0.3912 - accuracy: 0.8194\n",
      "Epoch 67/100\n",
      "54/54 [==============================] - 0s 759us/step - loss: 0.3903 - accuracy: 0.8194\n",
      "Epoch 68/100\n",
      "54/54 [==============================] - 0s 907us/step - loss: 0.3898 - accuracy: 0.8175\n",
      "Epoch 69/100\n",
      "54/54 [==============================] - 0s 833us/step - loss: 0.3883 - accuracy: 0.8194\n",
      "Epoch 70/100\n",
      "54/54 [==============================] - 0s 759us/step - loss: 0.3876 - accuracy: 0.8194\n",
      "Epoch 71/100\n",
      "54/54 [==============================] - 0s 759us/step - loss: 0.3871 - accuracy: 0.8231\n",
      "Epoch 72/100\n",
      "54/54 [==============================] - 0s 741us/step - loss: 0.3881 - accuracy: 0.8175\n",
      "Epoch 73/100\n",
      "54/54 [==============================] - 0s 796us/step - loss: 0.3858 - accuracy: 0.8250\n",
      "Epoch 74/100\n",
      "54/54 [==============================] - 0s 815us/step - loss: 0.3855 - accuracy: 0.8194\n",
      "Epoch 75/100\n",
      "54/54 [==============================] - 0s 907us/step - loss: 0.3858 - accuracy: 0.8231\n",
      "Epoch 76/100\n",
      "54/54 [==============================] - 0s 963us/step - loss: 0.3847 - accuracy: 0.8268\n",
      "Epoch 77/100\n",
      "54/54 [==============================] - 0s 944us/step - loss: 0.3849 - accuracy: 0.8268\n",
      "Epoch 78/100\n",
      "54/54 [==============================] - 0s 907us/step - loss: 0.3842 - accuracy: 0.8194\n",
      "Epoch 79/100\n",
      "54/54 [==============================] - 0s 1ms/step - loss: 0.3840 - accuracy: 0.8250\n",
      "Epoch 80/100\n",
      "54/54 [==============================] - 0s 907us/step - loss: 0.3831 - accuracy: 0.8212\n",
      "Epoch 81/100\n"
     ]
    },
    {
     "name": "stdout",
     "output_type": "stream",
     "text": [
      "54/54 [==============================] - 0s 907us/step - loss: 0.3811 - accuracy: 0.8287\n",
      "Epoch 82/100\n",
      "54/54 [==============================] - 0s 907us/step - loss: 0.3811 - accuracy: 0.8324\n",
      "Epoch 83/100\n",
      "54/54 [==============================] - 0s 870us/step - loss: 0.3803 - accuracy: 0.8268\n",
      "Epoch 84/100\n",
      "54/54 [==============================] - 0s 833us/step - loss: 0.3806 - accuracy: 0.8305\n",
      "Epoch 85/100\n",
      "54/54 [==============================] - 0s 870us/step - loss: 0.3789 - accuracy: 0.8305\n",
      "Epoch 86/100\n",
      "54/54 [==============================] - 0s 870us/step - loss: 0.3777 - accuracy: 0.8287\n",
      "Epoch 87/100\n",
      "54/54 [==============================] - 0s 796us/step - loss: 0.3768 - accuracy: 0.8361\n",
      "Epoch 88/100\n",
      "54/54 [==============================] - 0s 722us/step - loss: 0.3775 - accuracy: 0.8305\n",
      "Epoch 89/100\n",
      "54/54 [==============================] - 0s 759us/step - loss: 0.3757 - accuracy: 0.8287\n",
      "Epoch 90/100\n",
      "54/54 [==============================] - 0s 778us/step - loss: 0.3753 - accuracy: 0.8305\n",
      "Epoch 91/100\n",
      "54/54 [==============================] - 0s 759us/step - loss: 0.3739 - accuracy: 0.8268\n",
      "Epoch 92/100\n",
      "54/54 [==============================] - 0s 741us/step - loss: 0.3729 - accuracy: 0.8361\n",
      "Epoch 93/100\n",
      "54/54 [==============================] - 0s 741us/step - loss: 0.3730 - accuracy: 0.8343\n",
      "Epoch 94/100\n",
      "54/54 [==============================] - 0s 722us/step - loss: 0.3721 - accuracy: 0.8380\n",
      "Epoch 95/100\n",
      "54/54 [==============================] - 0s 722us/step - loss: 0.3714 - accuracy: 0.8343\n",
      "Epoch 96/100\n",
      "54/54 [==============================] - 0s 741us/step - loss: 0.3711 - accuracy: 0.8417\n",
      "Epoch 97/100\n",
      "54/54 [==============================] - 0s 796us/step - loss: 0.3701 - accuracy: 0.8324\n",
      "Epoch 98/100\n",
      "54/54 [==============================] - 0s 778us/step - loss: 0.3689 - accuracy: 0.8361\n",
      "Epoch 99/100\n",
      "54/54 [==============================] - 0s 1ms/step - loss: 0.3685 - accuracy: 0.8361: 0s - loss: 0.3740 - accuracy: 0.83\n",
      "Epoch 100/100\n",
      "54/54 [==============================] - 0s 833us/step - loss: 0.3689 - accuracy: 0.8454\n"
     ]
    }
   ],
   "source": [
    "history = model.fit(X_train, y_train, epochs = 100, batch_size=10)"
   ]
  },
  {
   "cell_type": "markdown",
   "id": "c1698c22",
   "metadata": {},
   "source": [
    "* After training model, we will predict and evaluate our model using the accuracy score. \n",
    "\n",
    "* Also, we will plot out loss function to see if the model is converged correctly or not. If the graph gets more elbow shaped that means model have achieved maximum accuracy and it does not need more training."
   ]
  },
  {
   "cell_type": "markdown",
   "id": "e21df418",
   "metadata": {},
   "source": [
    "### Prediction:"
   ]
  },
  {
   "cell_type": "code",
   "execution_count": 39,
   "id": "e35eebe0",
   "metadata": {},
   "outputs": [
    {
     "data": {
      "text/plain": [
       "0.7272727272727273"
      ]
     },
     "execution_count": 39,
     "metadata": {},
     "output_type": "execute_result"
    }
   ],
   "source": [
    "from sklearn.metrics import accuracy_score\n",
    "y_pred = model.predict(X_test)\n",
    "y_pred = np.argmax(y_pred, axis=1)\n",
    "accuracy_score(y_test, y_pred)"
   ]
  },
  {
   "cell_type": "markdown",
   "id": "f315a9ab",
   "metadata": {},
   "source": [
    "### Evaluation:"
   ]
  },
  {
   "cell_type": "markdown",
   "id": "18a24935",
   "metadata": {},
   "source": [
    "    * Plotting Loss against  no of epochs"
   ]
  },
  {
   "cell_type": "code",
   "execution_count": 40,
   "id": "f6072875",
   "metadata": {},
   "outputs": [
    {
     "data": {
      "text/plain": [
       "Text(0, 0.5, 'Loss')"
      ]
     },
     "execution_count": 40,
     "metadata": {},
     "output_type": "execute_result"
    },
    {
     "data": {
      "image/png": "[encoded data removed]",
      "text/plain": [
       "<Figure size 432x288 with 1 Axes>"
      ]
     },
     "metadata": {
      "needs_background": "light"
     },
     "output_type": "display_data"
    }
   ],
   "source": [
    "import matplotlib.pyplot as plt\n",
    "plt.plot(history.history['loss'])\n",
    "plt.xlabel('Epochs')\n",
    "plt.ylabel('Loss')"
   ]
  },
  {
   "cell_type": "code",
   "execution_count": 51,
   "id": "90707396",
   "metadata": {},
   "outputs": [
    {
     "name": "stdout",
     "output_type": "stream",
     "text": [
      "[[121  30]\n",
      " [ 33  47]]\n"
     ]
    }
   ],
   "source": [
    "from sklearn.metrics import confusion_matrix\n",
    "cm = confusion_matrix(y_test, y_pred)\n",
    "print(cm)"
   ]
  },
  {
   "cell_type": "code",
   "execution_count": 53,
   "id": "430162c2",
   "metadata": {},
   "outputs": [
    {
     "ename": "NameError",
     "evalue": "name 'accuracy' is not defined",
     "output_type": "error",
     "traceback": [
      "\u001b[1;31m---------------------------------------------------------------------------\u001b[0m",
      "\u001b[1;31mNameError\u001b[0m                                 Traceback (most recent call last)",
      "\u001b[1;32m<ipython-input-53-0d460b0c6745>\u001b[0m in \u001b[0;36m<module>\u001b[1;34m\u001b[0m\n\u001b[1;32m----> 1\u001b[1;33m \u001b[0mprint\u001b[0m\u001b[1;33m(\u001b[0m\u001b[0maccuracy\u001b[0m\u001b[1;33m)\u001b[0m\u001b[1;33m\u001b[0m\u001b[1;33m\u001b[0m\u001b[0m\n\u001b[0m",
      "\u001b[1;31mNameError\u001b[0m: name 'accuracy' is not defined"
     ]
    }
   ],
   "source": [
    "print(accuracy)"
   ]
  },
  {
   "cell_type": "code",
   "execution_count": null,
   "id": "491fc7e1",
   "metadata": {},
   "outputs": [],
   "source": []
  }
 ],
 "metadata": {
  "kernelspec": {
   "display_name": "Python 3",
   "language": "python",
   "name": "python3"
  },
  "language_info": {
   "codemirror_mode": {
    "name": "ipython",
    "version": 3
   },
   "file_extension": ".py",
   "mimetype": "text/x-python",
   "name": "python",
   "nbconvert_exporter": "python",
   "pygments_lexer": "ipython3",
   "version": "3.8.10"
  }
 },
 "nbformat": 4,
 "nbformat_minor": 5
}
